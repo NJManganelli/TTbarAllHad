{
 "cells": [
  {
   "cell_type": "markdown",
   "metadata": {},
   "source": [
    "# Calculate trigger turnon for ttbar All-Hadronic Analysis\n",
    "\n",
    "We are calculating the efficiencies of the following triggers with respect to the next lowest trigger in that category: \n",
    "\n",
    "```\n",
    "    'HLT_AK8PFJet400_TrimMass30',\n",
    "    'HLT_AK8PFJet420_TrimMass30',\n",
    "    'HLT_AK8PFJet500',\n",
    "    'HLT_AK8PFJet550',\n",
    "    'HLT_PFHT1050',\n",
    "    'HLT_AK8PFHT850_TrimMass50',\n",
    "    'HLT_AK8PFHT900_TrimMass50',\n",
    "```\n",
    "\n",
    "We then also calculate the \"OR\" of all of the signal triggers with respect to \"HLT_PFHT890\". \n",
    "\n",
    "Overall, the total turnon is around 98% for $H_{T} > 1200$ GeV. "
   ]
  },
  {
   "cell_type": "code",
   "execution_count": 7,
   "metadata": {
    "scrolled": false
   },
   "outputs": [
    {
     "name": "stderr",
     "output_type": "stream",
     "text": [
      "Warning in <TCanvas::Constructor>: Deleting canvas with same name: c1\n",
      "Info in <TCanvas::Print>: png file trigs_turnon.png has been created\n",
      "Info in <TCanvas::Print>: pdf file trigs_turnon.pdf has been created\n"
     ]
    },
    {
     "data": {
      "image/png": "[encoded data removed]",
      "text/plain": [
       "<IPython.core.display.Image object>"
      ]
     },
     "metadata": {},
     "output_type": "display_data"
    }
   ],
   "source": [
    "#!/usr/bin/env python\n",
    "\n",
    "import ROOT\n",
    "import itertools\n",
    "import array\n",
    "\n",
    "from tdrstyle import setTDRStyle\n",
    "setTDRStyle()\n",
    "\n",
    "ROOT.gStyle.SetLabelSize(0.04, \"X\")\n",
    "\n",
    "s_2018 = 'ttbarreshad_trigfile_JetHT_Run2018.root'\n",
    "f_2018 = ROOT.TFile(s_2018)\n",
    "\n",
    "reftrigs = [\n",
    "    'h_ak4ht_tot',\n",
    "    'HLT_AK8PFJet380_TrimMass30',\n",
    "    'HLT_AK8PFJet400_TrimMass30',\n",
    "    'HLT_AK8PFJet450',\n",
    "    'HLT_AK8PFJet500',\n",
    "    'HLT_PFHT890',\n",
    "    'HLT_AK8PFHT800_TrimMass50',\n",
    "    'HLT_AK8PFHT850_TrimMass50',\n",
    "]\n",
    "\n",
    "sigtrigs = [\n",
    "    'h_ak4ht_eff_tot',\n",
    "    'HLT_AK8PFJet400_TrimMass30',\n",
    "    'HLT_AK8PFJet420_TrimMass30',\n",
    "    'HLT_AK8PFJet500',\n",
    "    'HLT_AK8PFJet550',\n",
    "    'HLT_PFHT1050',\n",
    "    'HLT_AK8PFHT850_TrimMass50',\n",
    "    'HLT_AK8PFHT900_TrimMass50',\n",
    "]\n",
    "\n",
    "trigTurnonList = dict( zip(reftrigs,sigtrigs))\n",
    "\n",
    "\n",
    "istyles = [47,20,21,22,23,24,25,26,32]\n",
    "icolors = [ROOT.kBlack,ROOT.kBlack, ROOT.kRed, ROOT.kGreen + 3, ROOT.kBlue, ROOT.kBlack, ROOT.kRed, ROOT.kGreen+3, ROOT.kBlue]\n",
    "styles = dict(zip( reftrigs, istyles))\n",
    "colors = dict(zip( reftrigs, icolors))\n",
    "\n",
    "bins = array.array(\"d\", [1000, 1200, 1400, 1600., 1800., 2000., 5000.])\n",
    "\n",
    "f = f_2018\n",
    "\n",
    "files = []\n",
    "effs = []\n",
    "canvs = []\n",
    "legs = []\n",
    "\n",
    "latex = ROOT.TLatex()\n",
    "latex.SetNDC()\n",
    "latex.SetTextFont(42)\n",
    "latex.SetTextAlign(31) \n",
    "latex.SetTextSize(0.05)   \n",
    "c1 = ROOT.TCanvas(\"c1\" , \"c1\", 600, 600)\n",
    "leg = ROOT.TLegend(0.4, 0.4, 0.95, 0.65)\n",
    "leg.SetFillColor(0)\n",
    "leg.SetBorderSize(0)\n",
    "\n",
    "multigraph = ROOT.TMultiGraph('mg', ';H_{T} (GeV);Efficiency' )\n",
    "\n",
    "for itrig in reftrigs :\n",
    "    jtrig = trigTurnonList[itrig]\n",
    "    if itrig != 'h_ak4ht_tot':        \n",
    "        num = f.Get(\"ttbarres/h_ak4ht_\" + itrig + '_eff_' + jtrig )\n",
    "        den = f.Get(\"ttbarres/h_ak4ht_\" + itrig )\n",
    "    else: \n",
    "        num = f.Get(\"ttbarres/h_ak4ht_eff_tot\")\n",
    "        den = f.Get(\"ttbarres/h_ak4ht_tot\")\n",
    "    numrebin = num.Rebin(len(bins)-1, \"num_\" + jtrig, bins)\n",
    "    denrebin = den.Rebin(len(bins)-1, \"den_\" + jtrig, bins)\n",
    "    \n",
    "    efftot = ROOT.TEfficiency(numrebin,denrebin)\n",
    "    efftot.SetName('efftot' + jtrig)            \n",
    "\n",
    "    g = efftot.CreateGraph( 'eff' + jtrig)\n",
    "    g.SetMarkerStyle(styles[itrig])\n",
    "    g.SetMarkerColor(colors[itrig])\n",
    "    g.SetLineColor(colors[itrig])\n",
    "    if itrig != 'h_ak4ht_tot':\n",
    "        leg.AddEntry( g,jtrig,'lp')\n",
    "    else : \n",
    "        leg.AddEntry( g,\"Total\",'lp')\n",
    "    multigraph.Add( g )\n",
    "    effs.append(efftot)\n",
    "\n",
    "multigraph.Draw('ALP')\n",
    "multigraph.SetMinimum(0.7)\n",
    "leg.Draw()\n",
    "c1.Update()\n",
    "c1.Print('trigs_turnon.png', 'png')\n",
    "c1.Print('trigs_turnon.pdf', 'pdf')\n",
    "c1.Draw()\n",
    "\n",
    "\n",
    "\n",
    "\n",
    "\n"
   ]
  },
  {
   "cell_type": "code",
   "execution_count": null,
   "metadata": {},
   "outputs": [],
   "source": []
  }
 ],
 "metadata": {
  "kernelspec": {
   "display_name": "Python 2",
   "language": "python",
   "name": "python2"
  },
  "language_info": {
   "codemirror_mode": {
    "name": "ipython",
    "version": 2
   },
   "file_extension": ".py",
   "mimetype": "text/x-python",
   "name": "python",
   "nbconvert_exporter": "python",
   "pygments_lexer": "ipython2",
   "version": "2.7.14"
  }
 },
 "nbformat": 4,
 "nbformat_minor": 2
}
